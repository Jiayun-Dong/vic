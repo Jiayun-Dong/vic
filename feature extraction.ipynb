{
 "cells": [
  {
   "cell_type": "code",
   "execution_count": null,
   "metadata": {},
   "outputs": [
    {
     "name": "stderr",
     "output_type": "stream",
     "text": [
      "/Users/jiayun/anaconda3/lib/python3.6/importlib/_bootstrap.py:219: RuntimeWarning: compiletime version 3.5 of module 'tensorflow.python.framework.fast_tensor_util' does not match runtime version 3.6\n",
      "  return f(*args, **kwds)\n"
     ]
    }
   ],
   "source": [
    "import tensorflow as tf\n",
    "print (\"TensorFlow version: \" + tf.__version__)"
   ]
  },
  {
   "cell_type": "code",
   "execution_count": null,
   "metadata": {
    "colab": {
     "base_uri": "https://localhost:8080/",
     "height": 34
    },
    "colab_type": "code",
    "id": "5eBmsU5G1XwC",
    "outputId": "b11855a1-fdd2-42d2-a068-323974a41edd"
   },
   "outputs": [],
   "source": [
    "import keras\n",
    "keras.__version__"
   ]
  },
  {
   "cell_type": "markdown",
   "metadata": {
    "colab_type": "text",
    "id": "xxVaz2Mp1seu"
   },
   "source": [
    "# Using a pre-trained convnet\n",
    "\n",
    "This notebook contains the code sample found in Chapter 5, Section 3 of Deep Learning with Python. Note that the original text features far more content, in particular further explanations and figures: in this notebook, you will only find source code and related comments.\n",
    "\n",
    "---\n",
    "\n",
    "For instance, one might train a network on ImageNet (where classes are mostly animals and everyday objects) and then re-purpose this trained network for something as remote as identifying furniture items in images. Such portability of learned features across different problems is a key advantage of deep learning compared to many older shallow learning approaches, and it makes deep learning very effective for small-data problems.\n",
    "\n",
    "We will use the VGG16 architecture, developed by Karen Simonyan and Andrew Zisserman in 2014, a simple and widely used convnet architecture for ImageNet.\n",
    "\n",
    "There are two ways to leverage a pre-trained network: feature extraction and fine-tuning. We will cover both of them. Let's start with feature extraction.\n",
    "\n",
    "# Feature Extraction\n",
    "\n",
    "Feature extraction consists of using the representations learned by a previous network to extract interesting features from new samples. These features are then run through a new classifier, which is trained from scratch.\n",
    "\n",
    "As we saw previously, convnets used for image classification comprise two parts: they start with a series of pooling and convolution layers, and they end with a densely-connected classifier. The first part is called the \"convolutional base\" of the model. In the case of convnets, \"feature extraction\" will simply consist of taking the convolutional base of a previously-trained network, running the new data through it, and training a new classifier on top of the output.\n",
    "\n",
    "![Fig1](https://camo.githubusercontent.com/2de162f6f3587a0422389355909594413ae17742/68747470733a2f2f73332e616d617a6f6e6177732e636f6d2f626f6f6b2e6b657261732e696f2f696d672f6368352f7377617070696e675f66635f636c61737369666965722e706e67)\n",
    "\n",
    "Why only reuse the convolutional base? Could we reuse the densely-connected classifier as well? In general, it should be avoided. The reason is simply that the representations learned by the convolutional base are likely to be more generic and therefore more reusable: the feature maps of a convnet are presence maps of generic concepts over a picture, which is likely to be useful regardless of the computer vision problem at hand. On the other end, the representations learned by the classifier will necessarily be very specific to the set of classes that the model was trained on -- they will only contain information about the presence probability of this or that class in the entire picture. Additionally, representations found in densely-connected layers no longer contain any information about where objects are located in the input image: these layers get rid of the notion of space, whereas the object location is still described by convolutional feature maps. For problems where object location matters, densely-connected features would be largely useless.\n",
    "\n",
    "Note that the level of generality (and therefore reusability) of the representations extracted by specific convolution layers depends on the depth of the layer in the model. Layers that come earlier in the model extract local, highly generic feature maps (such as visual edges, colors, and textures), while layers higher-up extract more abstract concepts (such as \"cat ear\" or \"dog eye\"). So if your new dataset differs a lot from the dataset that the original model was trained on, you may be better off using only the first few layers of the model to do feature extraction, rather than using the entire convolutional base.\n",
    "\n",
    "Let's put this in practice by using the convolutional base of the VGG16 network, trained on ImageNet, to extract interesting features from our cat and dog images, and then training a cat vs. dog classifier on top of these features.\n",
    "\n",
    "Let's instantiate the VGG16 model:"
   ]
  },
  {
   "cell_type": "code",
   "execution_count": null,
   "metadata": {
    "colab": {},
    "colab_type": "code",
    "id": "ogJk0td95MHC"
   },
   "outputs": [],
   "source": [
    "from keras.applications import VGG16\n",
    "\n",
    "conv_base = VGG16(weights='imagenet',\n",
    "                  include_top=False,\n",
    "                  input_shape=(48, 48, 3))"
   ]
  },
  {
   "cell_type": "markdown",
   "metadata": {
    "colab_type": "text",
    "id": "-oHXZtUD8KBl"
   },
   "source": [
    "We passed three arguments to the constructor:\n",
    "\n",
    "\n",
    "\n",
    "*   weights, to specify which weight checkpoint to initialize the model from\n",
    "*   include_top, which refers to including or not the densely-connected classifier on top of the network. By default, this densely-connected classifier would correspond to the 1000 classes from ImageNet. Since we intend to use our own densely-connected classifier (with only two classes, cat and dog), we don't need to include it.\n",
    "*   input_shape, the shape of the image tensors that we will feed to the network. This argument is purely optional: if we don't pass it, then the network will be able to process inputs of any size.\n",
    "\n",
    "Here's the detail of the architecture of the VGG16 convolutional base\n"
   ]
  },
  {
   "cell_type": "code",
   "execution_count": 5,
   "metadata": {
    "colab": {
     "base_uri": "https://localhost:8080/",
     "height": 782
    },
    "colab_type": "code",
    "id": "woa-mhsn8cC_",
    "outputId": "64fbad22-5cf3-4270-ed28-f59833bf55e0"
   },
   "outputs": [
    {
     "name": "stdout",
     "output_type": "stream",
     "text": [
      "_________________________________________________________________\n",
      "Layer (type)                 Output Shape              Param #   \n",
      "=================================================================\n",
      "input_1 (InputLayer)         (None, 48, 48, 3)         0         \n",
      "_________________________________________________________________\n",
      "block1_conv1 (Conv2D)        (None, 48, 48, 64)        1792      \n",
      "_________________________________________________________________\n",
      "block1_conv2 (Conv2D)        (None, 48, 48, 64)        36928     \n",
      "_________________________________________________________________\n",
      "block1_pool (MaxPooling2D)   (None, 24, 24, 64)        0         \n",
      "_________________________________________________________________\n",
      "block2_conv1 (Conv2D)        (None, 24, 24, 128)       73856     \n",
      "_________________________________________________________________\n",
      "block2_conv2 (Conv2D)        (None, 24, 24, 128)       147584    \n",
      "_________________________________________________________________\n",
      "block2_pool (MaxPooling2D)   (None, 12, 12, 128)       0         \n",
      "_________________________________________________________________\n",
      "block3_conv1 (Conv2D)        (None, 12, 12, 256)       295168    \n",
      "_________________________________________________________________\n",
      "block3_conv2 (Conv2D)        (None, 12, 12, 256)       590080    \n",
      "_________________________________________________________________\n",
      "block3_conv3 (Conv2D)        (None, 12, 12, 256)       590080    \n",
      "_________________________________________________________________\n",
      "block3_pool (MaxPooling2D)   (None, 6, 6, 256)         0         \n",
      "_________________________________________________________________\n",
      "block4_conv1 (Conv2D)        (None, 6, 6, 512)         1180160   \n",
      "_________________________________________________________________\n",
      "block4_conv2 (Conv2D)        (None, 6, 6, 512)         2359808   \n",
      "_________________________________________________________________\n",
      "block4_conv3 (Conv2D)        (None, 6, 6, 512)         2359808   \n",
      "_________________________________________________________________\n",
      "block4_pool (MaxPooling2D)   (None, 3, 3, 512)         0         \n",
      "_________________________________________________________________\n",
      "block5_conv1 (Conv2D)        (None, 3, 3, 512)         2359808   \n",
      "_________________________________________________________________\n",
      "block5_conv2 (Conv2D)        (None, 3, 3, 512)         2359808   \n",
      "_________________________________________________________________\n",
      "block5_conv3 (Conv2D)        (None, 3, 3, 512)         2359808   \n",
      "_________________________________________________________________\n",
      "block5_pool (MaxPooling2D)   (None, 1, 1, 512)         0         \n",
      "=================================================================\n",
      "Total params: 14,714,688\n",
      "Trainable params: 14,714,688\n",
      "Non-trainable params: 0\n",
      "_________________________________________________________________\n"
     ]
    }
   ],
   "source": [
    "conv_base.summary()"
   ]
  },
  {
   "cell_type": "markdown",
   "metadata": {
    "colab_type": "text",
    "id": "IonMo_Ep9HqD"
   },
   "source": [
    "The final feature map has shape (4, 4, 512). That's the feature on top of which we will stick a densely-connected classifier.\n",
    "\n",
    "At this point, there are two ways we could proceed:\n",
    "\n",
    "1. Running the convolutional base over our dataset, recording its output to a Numpy array on disk, then using this data as input to a standalone densely-connected classifier similar to those you have seen in the first chapters of this book. This solution is very fast and cheap to run, because it only requires running the convolutional base once for every input image, and the convolutional base is by far the most expensive part of the pipeline. However, for the exact same reason, this technique would not allow us to leverage data augmentation at all.\n",
    "2. Extending the model we have (conv_base) by adding Dense layers on top, and running the whole thing end-to-end on the input data. This allows us to use data augmentation, because every input image is going through the convolutional base every time it is seen by the model. However, for this same reason, this technique is far more expensive than the first one.\n",
    "\n",
    "# Feature extraction\n",
    "\n",
    "We will start by simply running instances of the previously-introduced ImageDataGenerator to extract images as Numpy arrays as well as their labels. We will extract features from these images simply by calling the predict method of the conv_base model."
   ]
  },
  {
   "cell_type": "code",
   "execution_count": 6,
   "metadata": {
    "colab": {},
    "colab_type": "code",
    "collapsed": true,
    "id": "-EexTK6y-G2c"
   },
   "outputs": [],
   "source": [
    "import os\n",
    "import numpy as np\n",
    "from keras.preprocessing.image import ImageDataGenerator\n",
    "\n",
    "base_dir = '/Users/jiayun/Documents/coding/vgg/data'\n",
    "\n",
    "datagen = ImageDataGenerator(rescale=1./255)\n",
    "batch_size = 20"
   ]
  },
  {
   "cell_type": "code",
   "execution_count": 7,
   "metadata": {
    "colab": {},
    "colab_type": "code",
    "collapsed": true,
    "id": "ZNAdxECL-RjU"
   },
   "outputs": [],
   "source": [
    "def extract_features(directory, sample_count):\n",
    "    features = np.zeros(shape=(sample_count, 1, 1, 512)) # change shape according to image input\n",
    "    labels = np.zeros(shape=(sample_count))\n",
    "    generator = datagen.flow_from_directory(\n",
    "        directory,\n",
    "        target_size=(48, 48), # change shape according to image input\n",
    "        batch_size=batch_size,\n",
    "        class_mode='binary')\n",
    "    i = 0\n",
    "    for inputs_batch, labels_batch in generator:\n",
    "        features_batch = conv_base.predict(inputs_batch)\n",
    "        features[i * batch_size : (i + 1) * batch_size] = features_batch\n",
    "        labels[i * batch_size : (i + 1) * batch_size] = labels_batch\n",
    "        i += 1\n",
    "        if i * batch_size >= sample_count:\n",
    "            # Note that since generators yield data indefinitely in a loop,\n",
    "            # we must `break` after every image has been seen once.\n",
    "            break\n",
    "    return features, labels"
   ]
  },
  {
   "cell_type": "code",
   "execution_count": 8,
   "metadata": {
    "colab": {},
    "colab_type": "code",
    "id": "8en6H_L6ABaU"
   },
   "outputs": [
    {
     "name": "stdout",
     "output_type": "stream",
     "text": [
      "Found 1572 images belonging to 2 classes.\n"
     ]
    }
   ],
   "source": [
    "train_features, train_labels = extract_features(base_dir, 1572)"
   ]
  },
  {
   "cell_type": "code",
   "execution_count": 9,
   "metadata": {
    "collapsed": true
   },
   "outputs": [],
   "source": [
    "train_features = np.reshape(train_features, (1572, 1 * 1 * 512)) # change shape according to image input"
   ]
  },
  {
   "cell_type": "code",
   "execution_count": 10,
   "metadata": {
    "collapsed": true
   },
   "outputs": [],
   "source": [
    "import numpy\n",
    "numpy.savetxt(\"features.csv\", train_features, delimiter=\",\")\n",
    "numpy.savetxt(\"outcomes.csv\", train_labels, delimiter=\",\")"
   ]
  },
  {
   "cell_type": "markdown",
   "metadata": {
    "collapsed": true
   },
   "source": [
    "As a benchmark, train a two-layer NN."
   ]
  },
  {
   "cell_type": "code",
   "execution_count": 11,
   "metadata": {},
   "outputs": [
    {
     "name": "stdout",
     "output_type": "stream",
     "text": [
      "Train on 1572 samples, validate on 1572 samples\n",
      "Epoch 1/30\n",
      "1572/1572 [==============================] - 1s 420us/step - loss: 0.7673 - acc: 0.5108 - val_loss: 0.6866 - val_acc: 0.5471\n",
      "Epoch 2/30\n",
      "1572/1572 [==============================] - 0s 177us/step - loss: 0.7525 - acc: 0.5083 - val_loss: 0.6743 - val_acc: 0.5681\n",
      "Epoch 3/30\n",
      "1572/1572 [==============================] - 0s 179us/step - loss: 0.7309 - acc: 0.5573 - val_loss: 0.6636 - val_acc: 0.5980\n",
      "Epoch 4/30\n",
      "1572/1572 [==============================] - 0s 182us/step - loss: 0.7110 - acc: 0.5566 - val_loss: 0.6538 - val_acc: 0.6266\n",
      "Epoch 5/30\n",
      "1572/1572 [==============================] - 0s 176us/step - loss: 0.7073 - acc: 0.5649 - val_loss: 0.6450 - val_acc: 0.6463\n",
      "Epoch 6/30\n",
      "1572/1572 [==============================] - 0s 211us/step - loss: 0.7099 - acc: 0.5592 - val_loss: 0.6372 - val_acc: 0.6609\n",
      "Epoch 7/30\n",
      "1572/1572 [==============================] - 0s 183us/step - loss: 0.7107 - acc: 0.5560 - val_loss: 0.6299 - val_acc: 0.6858\n",
      "Epoch 8/30\n",
      "1572/1572 [==============================] - 0s 152us/step - loss: 0.6752 - acc: 0.5967 - val_loss: 0.6236 - val_acc: 0.6845\n",
      "Epoch 9/30\n",
      "1572/1572 [==============================] - 0s 140us/step - loss: 0.6641 - acc: 0.6139 - val_loss: 0.6175 - val_acc: 0.6947\n",
      "Epoch 10/30\n",
      "1572/1572 [==============================] - 0s 140us/step - loss: 0.6692 - acc: 0.6081 - val_loss: 0.6123 - val_acc: 0.6947\n",
      "Epoch 11/30\n",
      "1572/1572 [==============================] - 0s 166us/step - loss: 0.6559 - acc: 0.6196 - val_loss: 0.6073 - val_acc: 0.7042\n",
      "Epoch 12/30\n",
      "1572/1572 [==============================] - 0s 141us/step - loss: 0.6530 - acc: 0.6272 - val_loss: 0.6025 - val_acc: 0.7131\n",
      "Epoch 13/30\n",
      "1572/1572 [==============================] - 0s 135us/step - loss: 0.6445 - acc: 0.6304 - val_loss: 0.5982 - val_acc: 0.7048\n",
      "Epoch 14/30\n",
      "1572/1572 [==============================] - 0s 136us/step - loss: 0.6448 - acc: 0.6342 - val_loss: 0.5942 - val_acc: 0.7099\n",
      "Epoch 15/30\n",
      "1572/1572 [==============================] - 0s 137us/step - loss: 0.6593 - acc: 0.6279 - val_loss: 0.5905 - val_acc: 0.7144\n",
      "Epoch 16/30\n",
      "1572/1572 [==============================] - 0s 136us/step - loss: 0.6426 - acc: 0.6444 - val_loss: 0.5872 - val_acc: 0.7112\n",
      "Epoch 17/30\n",
      "1572/1572 [==============================] - 0s 139us/step - loss: 0.6395 - acc: 0.6266 - val_loss: 0.5838 - val_acc: 0.7131\n",
      "Epoch 18/30\n",
      "1572/1572 [==============================] - 0s 138us/step - loss: 0.6280 - acc: 0.6565 - val_loss: 0.5809 - val_acc: 0.7226\n",
      "Epoch 19/30\n",
      "1572/1572 [==============================] - 0s 138us/step - loss: 0.6382 - acc: 0.6463 - val_loss: 0.5780 - val_acc: 0.7169\n",
      "Epoch 20/30\n",
      "1572/1572 [==============================] - 0s 135us/step - loss: 0.6203 - acc: 0.6654 - val_loss: 0.5753 - val_acc: 0.7182\n",
      "Epoch 21/30\n",
      "1572/1572 [==============================] - 0s 140us/step - loss: 0.6300 - acc: 0.6444 - val_loss: 0.5729 - val_acc: 0.7176\n",
      "Epoch 22/30\n",
      "1572/1572 [==============================] - 0s 137us/step - loss: 0.6169 - acc: 0.6648 - val_loss: 0.5702 - val_acc: 0.7226\n",
      "Epoch 23/30\n",
      "1572/1572 [==============================] - 0s 162us/step - loss: 0.6055 - acc: 0.6724 - val_loss: 0.5678 - val_acc: 0.7265\n",
      "Epoch 24/30\n",
      "1572/1572 [==============================] - 0s 151us/step - loss: 0.6177 - acc: 0.6819 - val_loss: 0.5656 - val_acc: 0.7265\n",
      "Epoch 25/30\n",
      "1572/1572 [==============================] - 0s 139us/step - loss: 0.6024 - acc: 0.6813 - val_loss: 0.5635 - val_acc: 0.7271\n",
      "Epoch 26/30\n",
      "1572/1572 [==============================] - 0s 154us/step - loss: 0.6064 - acc: 0.6648 - val_loss: 0.5614 - val_acc: 0.7265\n",
      "Epoch 27/30\n",
      "1572/1572 [==============================] - 0s 139us/step - loss: 0.6033 - acc: 0.6845 - val_loss: 0.5594 - val_acc: 0.7290\n",
      "Epoch 28/30\n",
      "1572/1572 [==============================] - 0s 142us/step - loss: 0.6001 - acc: 0.6877 - val_loss: 0.5575 - val_acc: 0.7303\n",
      "Epoch 29/30\n",
      "1572/1572 [==============================] - 0s 150us/step - loss: 0.5932 - acc: 0.6705 - val_loss: 0.5555 - val_acc: 0.7303\n",
      "Epoch 30/30\n",
      "1572/1572 [==============================] - 0s 167us/step - loss: 0.5957 - acc: 0.6832 - val_loss: 0.5538 - val_acc: 0.7316\n"
     ]
    }
   ],
   "source": [
    "from keras import models\n",
    "from keras import layers\n",
    "from keras import optimizers\n",
    "\n",
    "model = models.Sequential()\n",
    "model.add(layers.Dense(256, activation='relu', input_dim= 1 * 1 * 512)) # change shape according to image input\n",
    "model.add(layers.Dropout(0.5))\n",
    "model.add(layers.Dense(1, activation='sigmoid'))\n",
    "\n",
    "model.compile(optimizer=optimizers.RMSprop(lr=2e-5),\n",
    "              loss='binary_crossentropy',\n",
    "              metrics=['acc'])\n",
    "\n",
    "history = model.fit(train_features, train_labels,\n",
    "                    epochs=30,\n",
    "                    batch_size=20,\n",
    "                    validation_data=(train_features, train_labels))"
   ]
  },
  {
   "cell_type": "code",
   "execution_count": 12,
   "metadata": {},
   "outputs": [
    {
     "data": {
      "image/png": "[encoded data removed]",
      "text/plain": [
       "<matplotlib.figure.Figure at 0x1825e049b0>"
      ]
     },
     "metadata": {},
     "output_type": "display_data"
    },
    {
     "data": {
      "image/png": "[encoded data removed]",
      "text/plain": [
       "<matplotlib.figure.Figure at 0x182b4895c0>"
      ]
     },
     "metadata": {},
     "output_type": "display_data"
    }
   ],
   "source": [
    "import matplotlib.pyplot as plt\n",
    "\n",
    "acc = history.history['acc']\n",
    "val_acc = history.history['val_acc']\n",
    "loss = history.history['loss']\n",
    "val_loss = history.history['val_loss']\n",
    "\n",
    "epochs = range(len(acc))\n",
    "\n",
    "plt.plot(epochs, acc, 'bo', label='Training acc')\n",
    "plt.plot(epochs, val_acc, 'b', label='Validation acc')\n",
    "plt.title('Training and validation accuracy')\n",
    "plt.legend()\n",
    "\n",
    "plt.figure()\n",
    "\n",
    "plt.plot(epochs, loss, 'bo', label='Training loss')\n",
    "plt.plot(epochs, val_loss, 'b', label='Validation loss')\n",
    "plt.title('Training and validation loss')\n",
    "plt.legend()\n",
    "\n",
    "plt.show()"
   ]
  },
  {
   "cell_type": "code",
   "execution_count": null,
   "metadata": {
    "collapsed": true
   },
   "outputs": [],
   "source": []
  }
 ],
 "metadata": {
  "colab": {
   "name": "using-pretrained-convnet-replicate.ipynb",
   "provenance": [],
   "toc_visible": true,
   "version": "0.3.2"
  },
  "kernelspec": {
   "display_name": "Python 3",
   "language": "python",
   "name": "python3"
  },
  "language_info": {
   "codemirror_mode": {
    "name": "ipython",
    "version": 3
   },
   "file_extension": ".py",
   "mimetype": "text/x-python",
   "name": "python",
   "nbconvert_exporter": "python",
   "pygments_lexer": "ipython3",
   "version": "3.6.8"
  }
 },
 "nbformat": 4,
 "nbformat_minor": 1
}
